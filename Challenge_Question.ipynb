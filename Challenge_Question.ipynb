{
  "nbformat": 4,
  "nbformat_minor": 0,
  "metadata": {
    "colab": {
      "provenance": [],
      "authorship_tag": "ABX9TyN0zT2k9ksFVPaMqe1FhqYa",
      "include_colab_link": true
    },
    "kernelspec": {
      "name": "python3",
      "display_name": "Python 3"
    },
    "language_info": {
      "name": "python"
    }
  },
  "cells": [
    {
      "cell_type": "markdown",
      "metadata": {
        "id": "view-in-github",
        "colab_type": "text"
      },
      "source": [
        "<a href=\"https://colab.research.google.com/github/Cotton-web/Challenge-Question/blob/main/Challenge_Question.ipynb\" target=\"_parent\"><img src=\"https://colab.research.google.com/assets/colab-badge.svg\" alt=\"Open In Colab\"/></a>"
      ]
    },
    {
      "cell_type": "markdown",
      "source": [
        "#Challenge Question"
      ],
      "metadata": {
        "id": "icneSqTDYwIW"
      }
    },
    {
      "cell_type": "markdown",
      "source": [
        "1. Write a python program to sort the list of heterogeneous data.\n",
        "\n",
        "e.g.\n",
        "\n",
        "L=[\"Ram\", 1, \"Shyam\", 2, \"Aman\", 3]\n",
        "\n",
        "print(L)\n",
        "\n",
        "L.sort()\n",
        "\n",
        "print(L)\n",
        "\n",
        "**Above code gives error. Correct it.**"
      ],
      "metadata": {
        "id": "uXWIgfILY0_i"
      }
    },
    {
      "cell_type": "code",
      "execution_count": 1,
      "metadata": {
        "colab": {
          "base_uri": "https://localhost:8080/"
        },
        "id": "o8xOSJhoYnbI",
        "outputId": "0f173d74-effa-434a-a1fc-b7bb845ff26b"
      },
      "outputs": [
        {
          "output_type": "stream",
          "name": "stdout",
          "text": [
            "[1, 2, 3, 'Ram', 'Shyam', 'adam']\n"
          ]
        }
      ],
      "source": [
        "L = ['Ram',1,'Shyam',2,'adam',3]\n",
        "l1=[]\n",
        "l2=[]\n",
        "for i in L:\n",
        "  try:\n",
        "    l1.append(int(i))\n",
        "  except:\n",
        "    l2.append(i)\n",
        "l1.sort()\n",
        "l2.sort()\n",
        "print(l1+l2)"
      ]
    }
  ]
}